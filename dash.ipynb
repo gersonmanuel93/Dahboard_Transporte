{
 "cells": [
  {
   "cell_type": "code",
   "execution_count": 1,
   "id": "1cafdbfb-4b7d-460f-994e-6b64156d7580",
   "metadata": {},
   "outputs": [],
   "source": [
    "import pandas as pd"
   ]
  },
  {
   "cell_type": "code",
   "execution_count": 2,
   "id": "40448f17-ea08-4bd9-b735-15b68cb137e1",
   "metadata": {},
   "outputs": [
    {
     "name": "stdout",
     "output_type": "stream",
     "text": [
      "     Nome  Idade          Cidade\n",
      "0     Ana     23       São Paulo\n",
      "1   Bruno     34  Rio de Janeiro\n",
      "2  Carlos     29  Belo Horizonte\n"
     ]
    }
   ],
   "source": [
    "# Criando um DataFrame a partir de um dicionário\n",
    "dados = {\n",
    "    \"Nome\": [\"Ana\", \"Bruno\", \"Carlos\"],\n",
    "    \"Idade\": [23, 34, 29],\n",
    "    \"Cidade\": [\"São Paulo\", \"Rio de Janeiro\", \"Belo Horizonte\"]\n",
    "}\n",
    "\n",
    "df = pd.DataFrame(dados)\n",
    "print(df)\n"
   ]
  }
 ],
 "metadata": {
  "kernelspec": {
   "display_name": "Python 3",
   "language": "python",
   "name": "python3"
  },
  "language_info": {
   "codemirror_mode": {
    "name": "ipython",
    "version": 3
   },
   "file_extension": ".py",
   "mimetype": "text/x-python",
   "name": "python",
   "nbconvert_exporter": "python",
   "pygments_lexer": "ipython3",
   "version": "3.13.0"
  }
 },
 "nbformat": 4,
 "nbformat_minor": 5
}
